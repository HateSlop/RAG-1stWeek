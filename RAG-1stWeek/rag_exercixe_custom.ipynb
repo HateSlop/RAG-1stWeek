{
 "cells": [
  {
   "cell_type": "code",
   "execution_count": 1,
   "metadata": {},
   "outputs": [],
   "source": [
    "import pickle  # pickle 모듈을 import하여 바이너리 형식으로 저장된 데이터를 읽고 쓸 수 있도록 함\n",
    "\n",
    "with open('./res/rag-custom.pkl', 'rb') as f:  # 바이너리 읽기 모드로 'rag_data.pkl' 파일을 엶\n",
    "    rag_data = pickle.load(f)  # 파일에서 데이터를 읽어와 'rag_data' 변수에 저장"
   ]
  },
  {
   "cell_type": "code",
   "execution_count": 2,
   "metadata": {},
   "outputs": [
    {
     "data": {
      "text/plain": [
       "10"
      ]
     },
     "execution_count": 2,
     "metadata": {},
     "output_type": "execute_result"
    }
   ],
   "source": [
    "questions = rag_data['questions'][:10]  # 상위 10개의 질문을 'questions'에 저장\n",
    "contexts = rag_data['contexts'][:10]  # 상위 10개의 문맥을 'contexts'에 저장\n",
    "answers = rag_data['answers'][:10]  # 상위 10개의 정답을 'answers'에 저장\n",
    "len(questions)  # 'questions' 리스트의 길이(질문 수)를 반환"
   ]
  },
  {
   "cell_type": "code",
   "execution_count": 3,
   "metadata": {},
   "outputs": [],
   "source": [
    "from ragas.llms import LangchainLLMWrapper  # Langchain LLM을 래핑하는 클래스 import\n",
    "from langchain_openai import ChatOpenAI  # OpenAI와의 연동을 위한 Langchain 기반 클래스 import\n",
    "evaluator_llm = LangchainLLMWrapper(ChatOpenAI(model=\"gpt-4o\"))  # GPT-4o 모델을 사용해 평가 LLM 인스턴스 생성"
   ]
  },
  {
   "cell_type": "code",
   "execution_count": 4,
   "metadata": {},
   "outputs": [
    {
     "name": "stderr",
     "output_type": "stream",
     "text": [
      "100%|██████████| 10/10 [00:43<00:00,  4.33s/it]\n"
     ]
    },
    {
     "data": {
      "text/plain": [
       "['The Trail Patrol Training course typically focuses on a variety of skills aimed at ensuring the safety, maintenance, and enjoyment of trails. While the specific curriculum can vary depending on the organization offering the course, some common skills taught include:\\n\\n1. **First Aid and CPR**: Basic first aid and CPR skills are essential for responding to medical emergencies on the trail.\\n\\n2. **Navigation and Map Reading**: Understanding how to read maps, use a compass, and navigate using GPS devices.\\n\\n3. **Trail Maintenance**: Techniques for maintaining trails, including erosion control, clearing debris, and repairing trail surfaces.\\n\\n4. **Communication Skills**: Effective communication with trail users, including conflict resolution and providing information about trail conditions and regulations.\\n\\n5. **Environmental Awareness**: Knowledge of local flora and fauna, Leave No Trace principles, and how to minimize human impact on natural environments.\\n\\n6. **Safety Protocols**: Procedures for ensuring personal safety and the safety of others, including how to handle wildlife encounters and adverse weather conditions.\\n\\n7. **Reporting and Documentation**: How to document and report trail conditions, incidents, and maintenance needs to relevant authorities.\\n\\n8. **Public Interaction**: Engaging with the public to provide guidance, answer questions, and promote responsible trail use.\\n\\n9. **Emergency Response**: Coordinating with local emergency services and understanding the protocols for various types of emergencies.\\n\\n10. **Equipment Use and Maintenance**: Proper use and maintenance of tools and equipment used in trail maintenance and patrol activities.\\n\\nThese skills help ensure that trail patrol members can effectively contribute to the safety, maintenance, and enjoyment of trail systems.',\n",
       " 'To accurately determine the original owner of the lot of items being sold, more context is needed. Typically, the original owner would be the person or entity that first acquired or possessed the items before they were put up for sale. This could be an individual, a business, an estate, or another type of entity. If the items are being sold through an auction house, estate sale, or consignment shop, the original owner might be the person or estate that consigned the items to the seller. If the items are being sold by a retailer, the original owner could be the manufacturer or wholesaler.\\n\\nIf you can provide more specific details about the items and the circumstances of the sale, I can give a more precise answer.',\n",
       " 'Humanity Road is a non-profit organization that focuses on leveraging technology and digital communications to aid in disaster response and recovery. The main objective of Humanity Road is to provide timely and accurate information to the public and to emergency responders during natural disasters and humanitarian crises. By utilizing social media, crowdsourcing, and other digital tools, Humanity Road aims to improve situational awareness, facilitate efficient resource allocation, and ultimately save lives and reduce suffering in the aftermath of disasters.',\n",
       " 'The two convicted killers who escaped from the Clinton Correctional Facility, a maximum-security prison in upstate New York, in June 2015 were Richard Matt and David Sweat. Their escape led to a massive manhunt that lasted several weeks. Richard Matt was eventually shot and killed by law enforcement, while David Sweat was captured and returned to prison.',\n",
       " \"The question appears to be more related to a specific narrative or historical account rather than a finance-related query. Without additional context, it's challenging to provide a precise answer. If this is a reference to a historical figure named Isaac, such as Isaac Newton or Isaac from a religious text, the answer would vary accordingly.\\n\\nFor example:\\n- In the context of Isaac Newton, historical records do not commonly mention a specific person who helped him when he was sick.\\n- In the biblical context, Isaac, the son of Abraham, was cared for by his family, including his wife Rebekah and his sons Esau and Jacob.\\n\\nCould you please provide more context or specify which Isaac you are referring to?\",\n",
       " 'Since the 2008 financial crisis, the banking industry in Hong Kong has undergone several significant changes. Here are some of the key developments:\\n\\n1. **Regulatory Enhancements**: The Hong Kong Monetary Authority (HKMA) has strengthened regulatory frameworks to enhance the resilience of the banking sector. This includes the implementation of Basel III standards, which require banks to hold more capital and maintain higher liquidity levels.\\n\\n2. **Increased Supervision and Stress Testing**: The HKMA has increased its supervisory activities, including more frequent and rigorous stress testing of banks to ensure they can withstand economic shocks.\\n\\n3. **Focus on Risk Management**: There has been a heightened focus on risk management practices within banks. This includes better risk assessment, improved internal controls, and more robust governance structures.\\n\\n4. **Technological Advancements**: The banking industry in Hong Kong has seen significant technological advancements, including the adoption of fintech solutions. Digital banking, mobile payments, and blockchain technology have become more prevalent, driven by both consumer demand and regulatory support.\\n\\n5. **Greater Emphasis on Compliance**: Post-crisis, there has been a stronger emphasis on compliance with international standards, including anti-money laundering (AML) and counter-terrorist financing (CTF) regulations. Banks have invested heavily in compliance infrastructure and training.\\n\\n6. **Market Consolidation**: There has been some consolidation in the banking sector, with mergers and acquisitions leading to fewer but larger and more stable banking institutions.\\n\\n7. **Diversification of Services**: Banks have diversified their services to include wealth management, insurance, and other financial services to reduce reliance on traditional banking activities and to capture new revenue streams.\\n\\n8. **Increased Competition**: The entry of virtual banks and other non-traditional financial institutions has increased competition in the banking sector. The HKMA has issued licenses to several virtual banks, which are expected to drive innovation and improve customer service.\\n\\n9. **Focus on Mainland China**: Hong Kong banks have increasingly focused on opportunities in Mainland China, leveraging the Closer Economic Partnership Arrangement (CEPA) and other cross-border initiatives to expand their business.\\n\\n10. **Sustainability and ESG**: There is a growing emphasis on environmental, social, and governance (ESG) factors. Banks are increasingly incorporating ESG criteria into their lending and investment decisions, driven by both regulatory requirements and investor demand.\\n\\nThese changes reflect a broader trend towards a more resilient, technologically advanced, and customer-focused banking industry in Hong Kong.',\n",
       " 'Kaighla Um Dayo, in her writings, describes a \"Cultural Muslim\" as someone who identifies with the cultural aspects of Islam rather than its religious doctrines. This means that a Cultural Muslim may participate in Islamic traditions, customs, and social practices, but may not necessarily adhere strictly to the religious beliefs or rituals. They might celebrate Islamic holidays, follow certain dietary restrictions, and engage in community activities, but their connection to Islam is more about cultural identity and heritage than about faith or religious observance.',\n",
       " 'In the context of the question, it appears that Lou\\'s daughter Joan was receiving financial support from her grandfather, who is Lou\\'s father. This is based on the information provided in the book \"The Pursuit of Happyness\" by Chris Gardner. If this is not the context you are referring to, please provide more details for a more accurate answer.',\n",
       " \"It seems like your question is missing some context. To provide a comprehensive answer, I would need more details about the specific scenario or narrative you're referring to. For example, are you asking about mistakes made during a financial run, a business venture, or perhaps a literal running event?\\n\\nIf you can provide more context or specify the narrative, I'd be happy to help analyze the mistakes made and offer insights.\",\n",
       " 'As of my last update in October 2021, Letitia James is the 67th Attorney General of New York State, having taken office on January 1, 2019. The 65th Attorney General of New York was Eric Schneiderman, who served from January 1, 2011, until his resignation on May 8, 2018. Please verify with up-to-date sources to ensure the information is current.']"
      ]
     },
     "execution_count": 4,
     "metadata": {},
     "output_type": "execute_result"
    }
   ],
   "source": [
    "from tqdm import tqdm  # 진행 상태 표시를 위한 tqdm 모듈 import\n",
    "\n",
    "from utils import call_openai, get_embeddings, cosine_similarity  # 사용자 정의 모듈에서 필요한 함수 import\n",
    "\n",
    "predictions = []  # 예측 결과를 저장할 리스트 초기화\n",
    "for i in tqdm(range(len(questions))):  # 질문 수 만큼 반복하며 진행 상태 표시\n",
    "    prompt = f\"\"\"You are an expert in Finance. Please answer to the question given below.\n",
    "    \n",
    "Question:\n",
    "{questions[i]}\n",
    "\"\"\"  # 금융 분야 전문가로 가정하여 질문에 답변하도록 하는 프롬프트 생성\n",
    "\n",
    "    prediction = call_openai(prompt, model='gpt-4o-2024-05-13')  # OpenAI API 호출을 통해 예측 생성\n",
    "    predictions.append(prediction)  # 예측 결과를 리스트에 추가\n",
    "\n",
    "predictions  # 생성된 예측 리스트 출력"
   ]
  },
  {
   "cell_type": "code",
   "execution_count": 5,
   "metadata": {},
   "outputs": [
    {
     "data": {
      "application/vnd.jupyter.widget-view+json": {
       "model_id": "f386428358e44cdbaaf5340364e4e945",
       "version_major": 2,
       "version_minor": 0
      },
      "text/plain": [
       "Evaluating:   0%|          | 0/10 [00:00<?, ?it/s]"
      ]
     },
     "metadata": {},
     "output_type": "display_data"
    },
    {
     "name": "stdout",
     "output_type": "stream",
     "text": [
      "                                          user_input  \\\n",
      "0  What are some of the skills taught in the Trai...   \n",
      "1  Who was the original owner of the lot of items...   \n",
      "2  What is the main objective of Humanity Road as...   \n",
      "3  Who were the two convicted killers that escape...   \n",
      "4  Who was the person that came to help when Isaa...   \n",
      "\n",
      "                                            response  \\\n",
      "0  The Trail Patrol Training course typically foc...   \n",
      "1  To accurately determine the original owner of ...   \n",
      "2  Humanity Road is a non-profit organization tha...   \n",
      "3  The two convicted killers who escaped from the...   \n",
      "4  The question appears to be more related to a s...   \n",
      "\n",
      "                                           reference  factual_correctness  \n",
      "0  The course teaches the essential skills necess...                 0.25  \n",
      "1  The original lot of items belonged to Lt. Neil...                 0.00  \n",
      "2  The main objective of Humanity Road is to 'clo...                 0.00  \n",
      "3  The two convicted killers that escaped from an...                 0.00  \n",
      "4  Jesus was the person who came to help when Isa...                 0.33  \n"
     ]
    }
   ],
   "source": [
    "from ragas.metrics import FactualCorrectness  # FactualCorrectness 메트릭 import\n",
    "from ragas.dataset_schema import SingleTurnSample, EvaluationDataset  # 평가 데이터셋 스키마와 단일 회차 샘플 import\n",
    "from ragas import evaluate  # 평가 함수 import\n",
    "\n",
    "samples = []  # 평가 샘플을 저장할 리스트 초기화\n",
    "for question, ai_response, ground_truth in zip(questions, predictions, answers):  # 질문, 예측, 정답을 묶어서 반복\n",
    "    sample = SingleTurnSample(\n",
    "        user_input=question,  # 사용자 질문 설정\n",
    "        response=ai_response,  # AI 응답 설정\n",
    "        reference=ground_truth  # 참조 정답 설정\n",
    "    )\n",
    "    samples.append(sample)  # 평가 샘플 리스트에 추가\n",
    "\n",
    "dataset = EvaluationDataset(samples)  # 평가 데이터셋 생성\n",
    "\n",
    "factual_correctness_metric = FactualCorrectness(llm=evaluator_llm)  # LLM 평가를 위한 FactualCorrectness 메트릭 설정\n",
    "\n",
    "results = evaluate(dataset, metrics=[factual_correctness_metric])  # 데이터셋과 메트릭을 사용해 평가 실행\n",
    "\n",
    "results_df = results.to_pandas()  # 평가 결과를 DataFrame으로 변환\n",
    "print(results_df.head())  # 평가 결과 상위 몇 개의 행 출력"
   ]
  },
  {
   "cell_type": "code",
   "execution_count": 6,
   "metadata": {},
   "outputs": [
    {
     "name": "stdout",
     "output_type": "stream",
     "text": [
      "{'factual_correctness': 0.1690}\n"
     ]
    }
   ],
   "source": [
    "print(results)  # 전체 평가 결과 출력"
   ]
  },
  {
   "cell_type": "code",
   "execution_count": 7,
   "metadata": {},
   "outputs": [
    {
     "name": "stdout",
     "output_type": "stream",
     "text": [
      "What are some of the skills taught in the Trail Patrol Training course?\n"
     ]
    }
   ],
   "source": [
    "print(questions[0])  # 첫 번째 질문 출력"
   ]
  },
  {
   "cell_type": "code",
   "execution_count": 8,
   "metadata": {},
   "outputs": [
    {
     "name": "stdout",
     "output_type": "stream",
     "text": [
      "The Trail Patrol Training course typically focuses on a variety of skills aimed at ensuring the safety, maintenance, and enjoyment of trails. While the specific curriculum can vary depending on the organization offering the course, some common skills taught include:\n",
      "\n",
      "1. **First Aid and CPR**: Basic first aid and CPR skills are essential for responding to medical emergencies on the trail.\n",
      "\n",
      "2. **Navigation and Map Reading**: Understanding how to read maps, use a compass, and navigate using GPS devices.\n",
      "\n",
      "3. **Trail Maintenance**: Techniques for maintaining trails, including erosion control, clearing debris, and repairing trail surfaces.\n",
      "\n",
      "4. **Communication Skills**: Effective communication with trail users, including conflict resolution and providing information about trail conditions and regulations.\n",
      "\n",
      "5. **Environmental Awareness**: Knowledge of local flora and fauna, Leave No Trace principles, and how to minimize human impact on natural environments.\n",
      "\n",
      "6. **Safety Protocols**: Procedures for ensuring personal safety and the safety of others, including how to handle wildlife encounters and adverse weather conditions.\n",
      "\n",
      "7. **Reporting and Documentation**: How to document and report trail conditions, incidents, and maintenance needs to relevant authorities.\n",
      "\n",
      "8. **Public Interaction**: Engaging with the public to provide guidance, answer questions, and promote responsible trail use.\n",
      "\n",
      "9. **Emergency Response**: Coordinating with local emergency services and understanding the protocols for various types of emergencies.\n",
      "\n",
      "10. **Equipment Use and Maintenance**: Proper use and maintenance of tools and equipment used in trail maintenance and patrol activities.\n",
      "\n",
      "These skills help ensure that trail patrol members can effectively contribute to the safety, maintenance, and enjoyment of trail systems.\n"
     ]
    }
   ],
   "source": [
    "print(predictions[0])  # 첫 번째 예측 출력"
   ]
  },
  {
   "cell_type": "code",
   "execution_count": 9,
   "metadata": {},
   "outputs": [
    {
     "name": "stderr",
     "output_type": "stream",
     "text": [
      "100%|██████████| 10/10 [00:43<00:00,  4.35s/it]\n"
     ]
    }
   ],
   "source": [
    "import numpy as np  # NumPy 모듈 import\n",
    "from tqdm import tqdm  # 진행 상태 표시를 위한 tqdm 모듈 import\n",
    "\n",
    "from utils import call_openai, get_embeddings, cosine_similarity  # 사용자 정의 모듈에서 필요한 함수 import\n",
    "\n",
    "def retrieve_context(question, contexts):  # 질문에 가장 유사한 문맥을 찾기 위한 함수 정의\n",
    "    question_embedding = get_embeddings([question], model='text-embedding-3-large')[0]  # 질문 임베딩 생성\n",
    "    context_embeddings = get_embeddings(contexts, model='text-embedding-3-large')  # 문맥 임베딩 생성\n",
    "\n",
    "    similarities = [cosine_similarity(question_embedding, context_embedding) for context_embedding in context_embeddings]  # 질문과 각 문맥 간의 유사도 계산\n",
    "\n",
    "    most_relevant_index = np.argmax(similarities)  # 가장 높은 유사도를 가지는 문맥의 인덱스 찾기\n",
    "    return contexts[most_relevant_index]  # 가장 관련성이 높은 문맥 반환\n",
    "\n",
    "predictions = []  # 예측 결과를 저장할 리스트 초기화\n",
    "for i in tqdm(range(len(questions))):  # 질문 수 만큼 반복하며 진행 상태 표시\n",
    "    context = retrieve_context(questions[i], contexts[i])  # 질문에 가장 유사한 문맥 찾기\n",
    "    prompt = f\"\"\"You are an expert in Finance. Please answer to the question given below. Use information given in Context appropriately.\n",
    "\n",
    "Context:\n",
    "{context}\n",
    "\n",
    "Question:\n",
    "{questions[i]}\n",
    "\"\"\"  # 문맥과 질문을 기반으로 답변을 생성하는 프롬프트 생성\n",
    "    prediction = call_openai(prompt, model='gpt-4o-2024-05-13')  # OpenAI API 호출을 통해 예측 생성\n",
    "    predictions.append(prediction)  # 예측 결과를 리스트에 추가"
   ]
  },
  {
   "cell_type": "code",
   "execution_count": 10,
   "metadata": {},
   "outputs": [
    {
     "data": {
      "application/vnd.jupyter.widget-view+json": {
       "model_id": "845a7dbf4f63421b8295d51a3b541920",
       "version_major": 2,
       "version_minor": 0
      },
      "text/plain": [
       "Evaluating:   0%|          | 0/10 [00:00<?, ?it/s]"
      ]
     },
     "metadata": {},
     "output_type": "display_data"
    },
    {
     "name": "stdout",
     "output_type": "stream",
     "text": [
      "                                          user_input  \\\n",
      "0  What are some of the skills taught in the Trai...   \n",
      "1  Who was the original owner of the lot of items...   \n",
      "2  What is the main objective of Humanity Road as...   \n",
      "3  Who were the two convicted killers that escape...   \n",
      "4  Who was the person that came to help when Isaa...   \n",
      "\n",
      "                                            response  \\\n",
      "0  It appears that the provided context is incomp...   \n",
      "1  I'm sorry, but the context provided (\"L\") does...   \n",
      "2  The main objective of Humanity Road as a non-p...   \n",
      "3  The two convicted killers who escaped from an ...   \n",
      "4  The context provided does not contain any info...   \n",
      "\n",
      "                                           reference  factual_correctness  \n",
      "0  The course teaches the essential skills necess...                 0.43  \n",
      "1  The original lot of items belonged to Lt. Neil...                 0.00  \n",
      "2  The main objective of Humanity Road is to 'clo...                 0.33  \n",
      "3  The two convicted killers that escaped from an...                 1.00  \n",
      "4  Jesus was the person who came to help when Isa...                 0.00  \n"
     ]
    }
   ],
   "source": [
    "from ragas.metrics import FactualCorrectness  # FactualCorrectness 메트릭 import\n",
    "from ragas.dataset_schema import SingleTurnSample, EvaluationDataset  # 평가 데이터셋 스키마와 단일 회차 샘플 import\n",
    "from ragas import evaluate  # 평가 함수 import\n",
    "\n",
    "samples = []  # 평가 샘플을 저장할 리스트 초기화\n",
    "for question, ai_response, ground_truth in zip(questions, predictions, answers):  # 질문, 예측, 정답을 묶어서 반복\n",
    "    sample = SingleTurnSample(\n",
    "        user_input=question,  # 사용자 질문 설정\n",
    "        response=ai_response,  # AI 응답 설정\n",
    "        reference=ground_truth  # 참조 정답 설정\n",
    "    )\n",
    "    samples.append(sample)  # 평가 샘플 리스트에 추가\n",
    "\n",
    "dataset = EvaluationDataset(samples)  # 평가 데이터셋 생성\n",
    "\n",
    "factual_correctness_metric = FactualCorrectness(llm=evaluator_llm)  # LLM 평가를 위한 FactualCorrectness 메트릭 설정\n",
    "\n",
    "results = evaluate(dataset, metrics=[factual_correctness_metric])  # 데이터셋과 메트릭을 사용해 평가 실행\n",
    "\n",
    "results_df = results.to_pandas()  # 평가 결과를 DataFrame으로 변환\n",
    "print(results_df.head())  # 평가 결과 상위 몇 개의 행 출력"
   ]
  },
  {
   "cell_type": "code",
   "execution_count": 11,
   "metadata": {},
   "outputs": [
    {
     "name": "stdout",
     "output_type": "stream",
     "text": [
      "{'factual_correctness': 0.2810}\n"
     ]
    }
   ],
   "source": [
    "print(results)  # 전체 평가 결과 출력"
   ]
  },
  {
   "cell_type": "code",
   "execution_count": 12,
   "metadata": {},
   "outputs": [
    {
     "name": "stdout",
     "output_type": "stream",
     "text": [
      "It appears that the provided context is incomplete (\"T\"). However, based on general knowledge about Trail Patrol Training courses, I can provide an overview of the skills typically taught in such programs. \n",
      "\n",
      "Trail Patrol Training courses often cover a variety of skills to ensure that participants are well-prepared to manage and maintain trails effectively. Some of the key skills taught in these courses may include:\n",
      "\n",
      "1. **Trail Maintenance and Repair**: Techniques for maintaining and repairing trails, including erosion control, drainage management, and vegetation management.\n",
      "\n",
      "2. **Safety and First Aid**: Basic first aid and emergency response skills to handle injuries or emergencies that may occur on the trail.\n",
      "\n",
      "3. **Navigation and Map Reading**: Skills for reading maps, using GPS devices, and navigating trails to ensure patrols can effectively cover their assigned areas.\n",
      "\n",
      "4. **Communication Skills**: Effective communication techniques for interacting with trail users, reporting issues, and coordinating with other patrol members or authorities.\n",
      "\n",
      "5. **Environmental Awareness**: Understanding the local ecosystem, wildlife, and environmental regulations to minimize the impact of trail use and maintenance activities.\n",
      "\n",
      "6. **Conflict Resolution**: Techniques for managing conflicts or disputes that may arise among trail users or between users and patrol members.\n",
      "\n",
      "7. **Reporting and Documentation**: Proper methods for documenting trail conditions, incidents, and maintenance activities to ensure accurate records and effective communication with trail management authorities.\n",
      "\n",
      "8. **Public Education and Outreach**: Strategies for educating trail users about responsible trail use, Leave No Trace principles, and other important guidelines to promote sustainable trail use.\n",
      "\n",
      "If you have more specific information or a more detailed context, I can provide a more tailored response.\n"
     ]
    }
   ],
   "source": [
    "print(predictions[0])  # 첫 번째 예측 출력"
   ]
  },
  {
   "cell_type": "code",
   "execution_count": 13,
   "metadata": {},
   "outputs": [
    {
     "name": "stdout",
     "output_type": "stream",
     "text": [
      "The course teaches the essential skills necessary to be a trail patrol member and to provide a reassuring presence on the trail while teaching safety and environmental responsibility.\n"
     ]
    }
   ],
   "source": [
    "print(answers[0])  # 첫 번째 정답 출력"
   ]
  },
  {
   "cell_type": "code",
   "execution_count": null,
   "metadata": {},
   "outputs": [],
   "source": []
  }
 ],
 "metadata": {
  "kernelspec": {
   "display_name": "tf210",
   "language": "python",
   "name": "tf210"
  },
  "language_info": {
   "codemirror_mode": {
    "name": "ipython",
    "version": 3
   },
   "file_extension": ".py",
   "mimetype": "text/x-python",
   "name": "python",
   "nbconvert_exporter": "python",
   "pygments_lexer": "ipython3",
   "version": "3.10.14"
  }
 },
 "nbformat": 4,
 "nbformat_minor": 2
}
