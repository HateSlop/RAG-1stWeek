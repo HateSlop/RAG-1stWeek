{
 "cells": [
  {
   "cell_type": "code",
   "execution_count": 1,
   "metadata": {},
   "outputs": [],
   "source": [
    "from dotenv import load_dotenv\n",
    "import os\n",
    "\n",
    "load_dotenv()\n",
    "\n",
    "OPENAI_API_KEY=os.getenv(\"OPENAI_API_KEY\")\n"
   ]
  },
  {
   "cell_type": "code",
   "execution_count": 2,
   "metadata": {},
   "outputs": [
    {
     "name": "stdout",
     "output_type": "stream",
     "text": [
      "제가 실시간으로 날씨를 알려드릴 수는 없지만, 내일 서울의 예상 날씨는 대체로 맑은 날씨가 예상되며 최저 기온은 약 10도, 최고 기온은 약 19도 정도가 되겠습니다. 하지만 정확한 예보는 내일 아침에 다시 확인해보시는 것이 좋을 것 같습니다.\n"
     ]
    }
   ],
   "source": [
    "from openai import OpenAI\n",
    "\n",
    "client = OpenAI(api_key=OPENAI_API_KEY)\n",
    "\n",
    "prompt=\"내일 서울 날씨는 어때?\"\n",
    "\n",
    "completion = client.chat.completions.create(\n",
    "  model=\"gpt-3.5-turbo-0125\",\n",
    "  messages=[\n",
    "    {\"role\": \"user\", \"content\": prompt},\n",
    "  ]\n",
    ")\n",
    "\n",
    "print(completion.choices[0].message.content)"
   ]
  },
  {
   "cell_type": "code",
   "execution_count": 3,
   "metadata": {},
   "outputs": [
    {
     "name": "stdout",
     "output_type": "stream",
     "text": [
      "저는 인공지능 챗봇으로 기상 정보를 제공하기 위해 프로그래밍되었습니다. 실시간으로 기상 정보를 업데이트하고 사용자의 질문에 대답하기 위해 미리 프로그래밍된 데이터베이스를 참조합니다. 그래서 사용자가 날씨에 관한 질문을 하면 제가 프로그래밍된 정보를 바탕으로 대답을 제공할 수 있습니다. 따라서 실시간 정보 업데이트가 되지 않는다고 걱정하지 않아도 됩니다.\n"
     ]
    }
   ],
   "source": [
    "curious_prompt = \"어떻게 네가 내일 날씨를 이야기해줄 수 있니? 너는 실시간 정보 업데이트가 안 되지 않니? 기상청 정보는 어떻게 알고 있는 거니?\"\n",
    "\n",
    "completion = client.chat.completions.create(\n",
    "  model=\"gpt-3.5-turbo-0125\",\n",
    "  messages=[\n",
    "    {\"role\": \"user\", \"content\": curious_prompt},\n",
    "  ]\n",
    ")\n",
    "\n",
    "print(completion.choices[0].message.content)"
   ]
  },
  {
   "cell_type": "code",
   "execution_count": 4,
   "metadata": {},
   "outputs": [
    {
     "name": "stdout",
     "output_type": "stream",
     "text": [
      "내일은 전남해안과 제주도 중심으로 가끔 비가 오는 것으로 예상되며, 풍랑과 너울에 유의해야 합니다. 전국적으로는 대체로 흐린 날씨가 예상되니 우산을 챙기시고 외출하시는 것이 좋겠습니다.\n"
     ]
    }
   ],
   "source": [
    "# 기상청 단기예보\n",
    "weather_info = \"\"\"□ (종합) 오늘 강원동해안.산지와 경상권 중심, 내일 전남해안과 제주도 중심 가끔 비 곳, 풍랑과 너울 유의\n",
    "○ (오늘) 전국 대체로 흐림,\n",
    "강원동해안.산지와 충북남부, 경상권 비 곳, 밤(18~24시)에 대부분 그침, 밤(18~24시)에 전남해안 비 조금 곳,\n",
    "밤(18~24시)까지 충남권남부와 전북, 밤(18~24시)에 전남권내륙 0.1mm 미만 빗방울 곳\n",
    "○ (내일) 전국 대체로 흐림,\n",
    "새벽(00~06시)부터 오후(12~18시) 사이 제주도, 새벽(00~06시)까지 강원산지, 아침(06~09시)까지 전남해안 가끔 비 곳,\n",
    "아침(06~09시)까지 전남권내륙, 전북서해안 0.1mm 미만 빗방울 곳\n",
    "○ (모레) 전국 대체로 맑음\n",
    "○ (글피) 전국 대체로 맑겠으나, 경상권과 제주도 가끔 구름많음\n",
    "* 예상 강수량(28~29일)\n",
    "- (수도권) 서해5도: 5mm 내외\n",
    "- (강원도) 강원산지, (28일) 강원동해안: 5~10mm\n",
    "- (충청권, 28일) 충북남부: 1mm 내외\n",
    "- (전라권) 전남해안: 5mm 미만\n",
    "- (경상권, 28일) 경북동해안: 5~10mm/ 대구.경북내륙, 부산.울산.경남: 5mm 미만\n",
    "- (제주도, 29일) 제주도: 5~40mm\"\"\"\n",
    "\n",
    "prompt = \"내일 날씨는 어때?\" + \"\\n\\n\" + weather_info\n",
    "\n",
    "completion = client.chat.completions.create(\n",
    "  model=\"gpt-3.5-turbo-0125\",\n",
    "  messages=[\n",
    "    {\"role\": \"user\", \"content\": prompt},\n",
    "  ], \n",
    "  temperature=0.0\n",
    ")\n",
    "\n",
    "print(completion.choices[0].message.content)"
   ]
  },
  {
   "cell_type": "code",
   "execution_count": 5,
   "metadata": {},
   "outputs": [
    {
     "name": "stdout",
     "output_type": "stream",
     "text": [
      "가장 유사한 텍스트 번호: 1\n",
      "겹치는 단어 수 : 2\n"
     ]
    }
   ],
   "source": [
    "def count_common_words(text1, text2):\n",
    "  words1 = text1.split()\n",
    "  words2 = text2.split()\n",
    "  common_words = set(words1) & set(words2)\n",
    "  return len(common_words)\n",
    "\n",
    "question = '한국의 전통 음식에 대해 무엇을 알고 계신가요?'\n",
    "\n",
    "ref_texts = [\n",
    "    '한국의 전통 음식은 다양한 재료와 조리법으로 유명합니다. 김치, 불고기, 비빔밥 등이 대표적인 예시입니다.',\n",
    "    '한국의 음식 문화는 건강에 좋은 재료를 사용하는 것으로 알려져 있습니다. 발효 식품인 김치가 대표적입니다.',\n",
    "    '한국의 역사와 문화는 매우 흥미롭습니다. 고궁과 한복, 그리고 태권도 등이 유명한 문화 요소입니다.'\n",
    "]\n",
    "\n",
    "common_word_counts = [count_common_words(question, ref_text) for ref_text in ref_texts]\n",
    "\n",
    "most_similar_index = common_word_counts.index(max(common_word_counts))\n",
    "print(f\"가장 유사한 텍스트 번호: {most_similar_index+1}\")\n",
    "print(f\"겹치는 단어 수 : {common_word_counts[most_similar_index]}\")"
   ]
  },
  {
   "cell_type": "code",
   "execution_count": null,
   "metadata": {},
   "outputs": [],
   "source": []
  }
 ],
 "metadata": {
  "kernelspec": {
   "display_name": ".retrieval-augmented-generation",
   "language": "python",
   "name": "python3"
  },
  "language_info": {
   "codemirror_mode": {
    "name": "ipython",
    "version": 3
   },
   "file_extension": ".py",
   "mimetype": "text/x-python",
   "name": "python",
   "nbconvert_exporter": "python",
   "pygments_lexer": "ipython3",
   "version": "3.12.4"
  }
 },
 "nbformat": 4,
 "nbformat_minor": 2
}
